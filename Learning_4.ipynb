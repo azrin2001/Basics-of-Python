{
 "cells": [
  {
   "cell_type": "markdown",
   "id": "15a62893",
   "metadata": {},
   "source": [
    "# Jupyter to CSV/Excel or, CSV/Excel to Jupyter"
   ]
  },
  {
   "cell_type": "code",
   "execution_count": null,
   "id": "8817e5d0",
   "metadata": {},
   "outputs": [],
   "source": [
    "import pandas as pd\n",
    "data=pd.read_csv('bd-dec21-births-deaths-by-region.csv') \n",
    "data"
   ]
  },
  {
   "cell_type": "raw",
   "id": "6c2957b0",
   "metadata": {},
   "source": [
    "#skiprows/header\n",
    "data=pd.read_csv('bd-dec21-births-deaths-by-region.csv',header=1) \n",
    "\n",
    "#if there is no column names or header\n",
    "data=pd.read_csv('bd-dec21-births-deaths-by-region.csv',header=None, name=['column_name_1','column_name_2',....])"
   ]
  },
  {
   "cell_type": "raw",
   "id": "555482b0",
   "metadata": {},
   "source": [
    "#to print particular rows\n",
    "data=pd.read_csv('bd-dec21-births-deaths-by-region.csv',nrows=10)\n",
    "data"
   ]
  },
  {
   "cell_type": "code",
   "execution_count": 73,
   "id": "b5456a13",
   "metadata": {},
   "outputs": [
    {
     "data": {
      "text/plain": [
       "(612, 4)"
      ]
     },
     "execution_count": 73,
     "metadata": {},
     "output_type": "execute_result"
    }
   ],
   "source": [
    "data.shape"
   ]
  },
  {
   "cell_type": "raw",
   "id": "76caf122",
   "metadata": {},
   "source": [
    "#cleaning messy data by replacing 'na_vallues'\n",
    "data=pd.read_csv('bd-dec21-births-deaths-by-region.csv',na_values=['value_name_1','value_name_2',...]) \n",
    "data=pd.read_csv('bd-dec21-births-deaths-by-region.csv',na_values={\n",
    "'Column_1':['value_name_1','value_name_2',...],'Column_2':['value_name_1','value_name_2',...],... \n",
    "})"
   ]
  },
  {
   "cell_type": "code",
   "execution_count": 74,
   "id": "c86d4500",
   "metadata": {},
   "outputs": [],
   "source": [
    "#write dataframe into 'csv' file\n",
    "data.to_csv('updated_bd-dec21-births-deaths-by-region.csv')"
   ]
  },
  {
   "cell_type": "code",
   "execution_count": 75,
   "id": "13031508",
   "metadata": {},
   "outputs": [],
   "source": [
    "data.to_csv('updated_bd-dec21-births-deaths-by-region.csv',index=False)\n",
    "#data.to_csv('updated_bd-dec21-births-deaths-by-region.csv',headeralse)\n",
    "#ata.to_csv('updated_bd-dec21-births-deaths-by-region.csv',columns=['Region', 'Count'])"
   ]
  },
  {
   "cell_type": "code",
   "execution_count": 76,
   "id": "be8da50a",
   "metadata": {},
   "outputs": [
    {
     "data": {
      "text/plain": [
       "Index(['Period', 'Birth_Death', 'Region', 'Count'], dtype='object')"
      ]
     },
     "execution_count": 76,
     "metadata": {},
     "output_type": "execute_result"
    }
   ],
   "source": [
    "data.columns"
   ]
  },
  {
   "cell_type": "code",
   "execution_count": 77,
   "id": "e8ee9a6e",
   "metadata": {},
   "outputs": [
    {
     "data": {
      "text/plain": [
       "Northland region                             34\n",
       "Auckland region                              34\n",
       "Region not stated or\\narea outside region    34\n",
       "Southland region                             34\n",
       "Otago region                                 34\n",
       "Canterbury region                            34\n",
       "West Coast region                            34\n",
       "Marlborough region                           34\n",
       "Nelson region                                34\n",
       "Tasman region                                34\n",
       "Wellington region                            34\n",
       "Manawatu-Wanganui region                     34\n",
       "Taranaki region                              34\n",
       "Hawke's Bay region                           34\n",
       "Gisborne region                              34\n",
       "Bay of Plenty region                         34\n",
       "Waikato region                               34\n",
       "New Zealand                                  34\n",
       "Name: Region, dtype: int64"
      ]
     },
     "execution_count": 77,
     "metadata": {},
     "output_type": "execute_result"
    }
   ],
   "source": [
    "data['Region'].value_counts()"
   ]
  },
  {
   "cell_type": "code",
   "execution_count": 85,
   "id": "7edca4c4",
   "metadata": {},
   "outputs": [
    {
     "data": {
      "text/html": [
       "<div>\n",
       "<style scoped>\n",
       "    .dataframe tbody tr th:only-of-type {\n",
       "        vertical-align: middle;\n",
       "    }\n",
       "\n",
       "    .dataframe tbody tr th {\n",
       "        vertical-align: top;\n",
       "    }\n",
       "\n",
       "    .dataframe thead th {\n",
       "        text-align: right;\n",
       "    }\n",
       "</style>\n",
       "<table border=\"1\" class=\"dataframe\">\n",
       "  <thead>\n",
       "    <tr style=\"text-align: right;\">\n",
       "      <th></th>\n",
       "      <th>Period</th>\n",
       "      <th>Birth_Death</th>\n",
       "      <th>Region</th>\n",
       "      <th>Count</th>\n",
       "    </tr>\n",
       "  </thead>\n",
       "  <tbody>\n",
       "    <tr>\n",
       "      <th>0</th>\n",
       "      <td>2005</td>\n",
       "      <td>Births</td>\n",
       "      <td>Northland region</td>\n",
       "      <td>2067</td>\n",
       "    </tr>\n",
       "    <tr>\n",
       "      <th>1</th>\n",
       "      <td>2005</td>\n",
       "      <td>Births</td>\n",
       "      <td>Auckland region</td>\n",
       "      <td>20745</td>\n",
       "    </tr>\n",
       "    <tr>\n",
       "      <th>2</th>\n",
       "      <td>2005</td>\n",
       "      <td>Births</td>\n",
       "      <td>Waikato region</td>\n",
       "      <td>5667</td>\n",
       "    </tr>\n",
       "    <tr>\n",
       "      <th>3</th>\n",
       "      <td>2005</td>\n",
       "      <td>Births</td>\n",
       "      <td>Bay of Plenty region</td>\n",
       "      <td>3771</td>\n",
       "    </tr>\n",
       "    <tr>\n",
       "      <th>4</th>\n",
       "      <td>2005</td>\n",
       "      <td>Births</td>\n",
       "      <td>Gisborne region</td>\n",
       "      <td>777</td>\n",
       "    </tr>\n",
       "    <tr>\n",
       "      <th>...</th>\n",
       "      <td>...</td>\n",
       "      <td>...</td>\n",
       "      <td>...</td>\n",
       "      <td>...</td>\n",
       "    </tr>\n",
       "    <tr>\n",
       "      <th>607</th>\n",
       "      <td>2021</td>\n",
       "      <td>Deaths</td>\n",
       "      <td>Canterbury region</td>\n",
       "      <td>4689</td>\n",
       "    </tr>\n",
       "    <tr>\n",
       "      <th>608</th>\n",
       "      <td>2021</td>\n",
       "      <td>Deaths</td>\n",
       "      <td>Otago region</td>\n",
       "      <td>1764</td>\n",
       "    </tr>\n",
       "    <tr>\n",
       "      <th>609</th>\n",
       "      <td>2021</td>\n",
       "      <td>Deaths</td>\n",
       "      <td>Southland region</td>\n",
       "      <td>891</td>\n",
       "    </tr>\n",
       "    <tr>\n",
       "      <th>610</th>\n",
       "      <td>2021</td>\n",
       "      <td>Deaths</td>\n",
       "      <td>None</td>\n",
       "      <td>39</td>\n",
       "    </tr>\n",
       "    <tr>\n",
       "      <th>611</th>\n",
       "      <td>2021</td>\n",
       "      <td>Deaths</td>\n",
       "      <td>New Zealand</td>\n",
       "      <td>34929</td>\n",
       "    </tr>\n",
       "  </tbody>\n",
       "</table>\n",
       "<p>612 rows × 4 columns</p>\n",
       "</div>"
      ],
      "text/plain": [
       "     Period Birth_Death                Region  Count\n",
       "0      2005      Births      Northland region   2067\n",
       "1      2005      Births       Auckland region  20745\n",
       "2      2005      Births        Waikato region   5667\n",
       "3      2005      Births  Bay of Plenty region   3771\n",
       "4      2005      Births       Gisborne region    777\n",
       "..      ...         ...                   ...    ...\n",
       "607    2021      Deaths     Canterbury region   4689\n",
       "608    2021      Deaths          Otago region   1764\n",
       "609    2021      Deaths      Southland region    891\n",
       "610    2021      Deaths                  None     39\n",
       "611    2021      Deaths           New Zealand  34929\n",
       "\n",
       "[612 rows x 4 columns]"
      ]
     },
     "execution_count": 85,
     "metadata": {},
     "output_type": "execute_result"
    }
   ],
   "source": [
    "def covert_Region_cell(cell):\n",
    "    if cell=='Region not stated or\\narea outside region':\n",
    "        return None\n",
    "    return cell\n",
    "data=pd.read_csv('updated_bd-dec21-births-deaths-by-region.csv', converters={\n",
    "    'Region':covert_Region_cell,\n",
    "})\n",
    "data"
   ]
  },
  {
   "cell_type": "code",
   "execution_count": 86,
   "id": "b237d69f",
   "metadata": {},
   "outputs": [
    {
     "data": {
      "text/plain": [
       "Northland region            34\n",
       "Tasman region               34\n",
       "Southland region            34\n",
       "Otago region                34\n",
       "Canterbury region           34\n",
       "West Coast region           34\n",
       "Marlborough region          34\n",
       "Nelson region               34\n",
       "Wellington region           34\n",
       "Auckland region             34\n",
       "Manawatu-Wanganui region    34\n",
       "Taranaki region             34\n",
       "Hawke's Bay region          34\n",
       "Gisborne region             34\n",
       "Bay of Plenty region        34\n",
       "Waikato region              34\n",
       "New Zealand                 34\n",
       "Name: Region, dtype: int64"
      ]
     },
     "execution_count": 86,
     "metadata": {},
     "output_type": "execute_result"
    }
   ],
   "source": [
    "data['Region'].value_counts()"
   ]
  },
  {
   "cell_type": "code",
   "execution_count": 90,
   "id": "d075d7b5",
   "metadata": {},
   "outputs": [],
   "source": [
    "data.to_excel('bd-dec21-births-deaths-by-region.xlsx',sheet_name='births-deaths',startrow=5,startcol=2,index=False)"
   ]
  },
  {
   "cell_type": "markdown",
   "id": "6a11366e",
   "metadata": {},
   "source": [
    "# Transfer multiple DataFrame in one Excel/CSV file in different sheets"
   ]
  },
  {
   "cell_type": "code",
   "execution_count": 96,
   "id": "1bf36955",
   "metadata": {},
   "outputs": [],
   "source": [
    "df_marks = pd.DataFrame({\n",
    "    'Name':['Fahima Akter Azrin','Abu Saleh Md. Nakib Uddin','Farhana Audity','Rezwan Kabir Shihab','Tasfia Saba'],\n",
    "    'Roll':[201936029,201936022,201936008,201936013,201936019],\n",
    "    'Marks':[96.9,99.7,70,45.2,86.4]\n",
    "})\n",
    "df_routine = pd.DataFrame({\n",
    "    'Date':['07/08/2022', '10/08/2022', '14/08/2022', '21/08/2022', '24/08/2022'],\n",
    "    'Course_Code':['IPE 435','IPE 419','IPE 415','IPE 417','IPE 405'],\n",
    "    'Course_Name':['Metal Cutting Process','Modelling & Simulation','Project Management','Industrial Automation','Supply Chain Management']\n",
    "})"
   ]
  },
  {
   "cell_type": "code",
   "execution_count": 98,
   "id": "f2e5e499",
   "metadata": {},
   "outputs": [],
   "source": [
    "with pd.ExcelWriter('Marks_routine.xlsx') as writer:\n",
    "    df_routine.to_excel(writer,sheet_name='Routine',index=False)\n",
    "    df_marks.to_excel(writer,sheet_name='Marks',index=False)"
   ]
  }
 ],
 "metadata": {
  "kernelspec": {
   "display_name": "Python 3 (ipykernel)",
   "language": "python",
   "name": "python3"
  },
  "language_info": {
   "codemirror_mode": {
    "name": "ipython",
    "version": 3
   },
   "file_extension": ".py",
   "mimetype": "text/x-python",
   "name": "python",
   "nbconvert_exporter": "python",
   "pygments_lexer": "ipython3",
   "version": "3.9.12"
  }
 },
 "nbformat": 4,
 "nbformat_minor": 5
}
