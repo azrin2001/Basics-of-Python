{
 "cells": [
  {
   "cell_type": "markdown",
   "id": "7386959e",
   "metadata": {},
   "source": [
    "# Merging Dataframes"
   ]
  },
  {
   "cell_type": "code",
   "execution_count": 5,
   "id": "04e85731",
   "metadata": {},
   "outputs": [
    {
     "name": "stdout",
     "output_type": "stream",
     "text": [
      "         City  Temperature\n",
      "0       Dhaka           34\n",
      "1  Chittagong           36\n",
      "2      Khulna           42\n",
      "         City  Humidity\n",
      "0       Dhaka        71\n",
      "1  Chittagong        68\n",
      "2      Khulna        85\n"
     ]
    }
   ],
   "source": [
    "import pandas as pd\n",
    "\n",
    "temp_df=pd.DataFrame({\n",
    "    'City':['Dhaka','Chittagong','Khulna'],\n",
    "    'Temperature':[34,36,42]\n",
    "})\n",
    "hum_df=pd.DataFrame({\n",
    "    'City':['Dhaka','Chittagong','Khulna'],\n",
    "    'Humidity':[71,68,85]\n",
    "})\n",
    "print(temp_df)\n",
    "print(hum_df)"
   ]
  },
  {
   "cell_type": "code",
   "execution_count": 6,
   "id": "f9ca57e0",
   "metadata": {},
   "outputs": [
    {
     "name": "stdout",
     "output_type": "stream",
     "text": [
      "         City  Temperature  Humidity\n",
      "0       Dhaka           34        71\n",
      "1  Chittagong           36        68\n",
      "2      Khulna           42        85\n"
     ]
    }
   ],
   "source": [
    "Bangladesh_weather=pd.merge(temp_df,hum_df,on='City')\n",
    "print(Bangladesh_weather)"
   ]
  },
  {
   "cell_type": "markdown",
   "id": "bd7970cd",
   "metadata": {},
   "source": [
    "# Inner Join "
   ]
  },
  {
   "cell_type": "code",
   "execution_count": 7,
   "id": "c676c236",
   "metadata": {},
   "outputs": [
    {
     "name": "stdout",
     "output_type": "stream",
     "text": [
      "         City  Temperature  Humidity\n",
      "0       Dhaka           34        71\n",
      "1  Chittagong           36        68\n"
     ]
    }
   ],
   "source": [
    "temp_df=pd.DataFrame({\n",
    "    'City':['Dhaka','Chittagong','Khulna'],\n",
    "    'Temperature':[34,36,42]\n",
    "})\n",
    "hum_df2=pd.DataFrame({\n",
    "    'City':['Dhaka','Chittagong','Barishal'],\n",
    "    'Humidity':[71,68,85]\n",
    "})\n",
    "Bangladesh_weather2=pd.merge(temp_df,hum_df2,on='City')\n",
    "print(Bangladesh_weather2)"
   ]
  },
  {
   "cell_type": "markdown",
   "id": "9bd9a680",
   "metadata": {},
   "source": [
    "# Outer Join"
   ]
  },
  {
   "cell_type": "code",
   "execution_count": 8,
   "id": "d6184bf9",
   "metadata": {},
   "outputs": [
    {
     "name": "stdout",
     "output_type": "stream",
     "text": [
      "         City  Temperature  Humidity\n",
      "0       Dhaka         34.0      71.0\n",
      "1  Chittagong         36.0      68.0\n",
      "2      Khulna         42.0       NaN\n",
      "3    Barishal          NaN      85.0\n"
     ]
    }
   ],
   "source": [
    "Bangladesh_weather2=pd.merge(temp_df,hum_df2,on='City',how='outer')\n",
    "print(Bangladesh_weather2)"
   ]
  },
  {
   "cell_type": "code",
   "execution_count": 11,
   "id": "7e37939f",
   "metadata": {},
   "outputs": [
    {
     "name": "stdout",
     "output_type": "stream",
     "text": [
      "         City  Temperature  Humidity      _merge\n",
      "0       Dhaka         34.0      71.0        both\n",
      "1  Chittagong         36.0      68.0        both\n",
      "2      Khulna         42.0       NaN   left_only\n",
      "3    Barishal          NaN      85.0  right_only\n"
     ]
    }
   ],
   "source": [
    "Bangladesh_weather2=pd.merge(temp_df,hum_df2,on='City',how='outer',indicator=True)\n",
    "print(Bangladesh_weather2)"
   ]
  },
  {
   "cell_type": "markdown",
   "id": "c8285ec0",
   "metadata": {},
   "source": [
    "# Left & Right"
   ]
  },
  {
   "cell_type": "code",
   "execution_count": 10,
   "id": "6addcaaf",
   "metadata": {},
   "outputs": [
    {
     "name": "stdout",
     "output_type": "stream",
     "text": [
      "         City  Temperature  Humidity\n",
      "0       Dhaka           34      71.0\n",
      "1  Chittagong           36      68.0\n",
      "2      Khulna           42       NaN\n",
      "         City  Temperature  Humidity\n",
      "0       Dhaka         34.0        71\n",
      "1  Chittagong         36.0        68\n",
      "2    Barishal          NaN        85\n"
     ]
    }
   ],
   "source": [
    "Bangladesh_weather2=pd.merge(temp_df,hum_df2,on='City',how='left')\n",
    "print(Bangladesh_weather2)\n",
    "\n",
    "Bangladesh_weather2=pd.merge(temp_df,hum_df2,on='City',how='right')\n",
    "print(Bangladesh_weather2)"
   ]
  },
  {
   "cell_type": "markdown",
   "id": "f6be1634",
   "metadata": {},
   "source": [
    "# Adding Suffix "
   ]
  },
  {
   "cell_type": "code",
   "execution_count": 15,
   "id": "e539c5bf",
   "metadata": {},
   "outputs": [
    {
     "name": "stdout",
     "output_type": "stream",
     "text": [
      "         City  Temperature_x  Humidity  Temperature_y\n",
      "0       Dhaka             34        85             34\n",
      "1  Chittagong             36        62             36\n",
      "2      Khulna             42        71             42\n"
     ]
    }
   ],
   "source": [
    "Bangladesh1=pd.DataFrame({\n",
    "    'City':['Dhaka','Chittagong','Khulna'],\n",
    "    'Temperature':[34,36,42],\n",
    "    'Humidity':[85,62,71]\n",
    "})\n",
    "temp_df=pd.DataFrame({\n",
    "    'City':['Dhaka','Chittagong','Khulna'],\n",
    "    'Temperature':[34,36,42]\n",
    "})\n",
    "df=pd.merge(Bangladesh1,temp_df,on='City')\n",
    "print(df)"
   ]
  },
  {
   "cell_type": "code",
   "execution_count": 17,
   "id": "c002d232",
   "metadata": {},
   "outputs": [
    {
     "name": "stdout",
     "output_type": "stream",
     "text": [
      "         City  Temperature_left  Humidity  Temperature_right\n",
      "0       Dhaka                34        85                 34\n",
      "1  Chittagong                36        62                 36\n",
      "2      Khulna                42        71                 42\n"
     ]
    }
   ],
   "source": [
    "df=pd.merge(Bangladesh1,temp_df,on='City',suffixes=('_left','_right'))\n",
    "print(df)"
   ]
  }
 ],
 "metadata": {
  "kernelspec": {
   "display_name": "Python 3 (ipykernel)",
   "language": "python",
   "name": "python3"
  },
  "language_info": {
   "codemirror_mode": {
    "name": "ipython",
    "version": 3
   },
   "file_extension": ".py",
   "mimetype": "text/x-python",
   "name": "python",
   "nbconvert_exporter": "python",
   "pygments_lexer": "ipython3",
   "version": "3.9.12"
  }
 },
 "nbformat": 4,
 "nbformat_minor": 5
}
