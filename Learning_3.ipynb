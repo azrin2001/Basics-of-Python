{
 "cells": [
  {
   "cell_type": "markdown",
   "id": "07547a9d",
   "metadata": {},
   "source": [
    "# 5 Different ways of creating Dataframe"
   ]
  },
  {
   "cell_type": "code",
   "execution_count": 5,
   "id": "1b625444",
   "metadata": {},
   "outputs": [],
   "source": [
    "import pandas as pd"
   ]
  },
  {
   "cell_type": "markdown",
   "id": "9e1385a5",
   "metadata": {},
   "source": [
    "df=pd.read_csv('csv_file_name.csv')  "
   ]
  },
  {
   "cell_type": "markdown",
   "id": "130a9c62",
   "metadata": {},
   "source": [
    "df=pd.read_excel('csv_file_name.xlsx', 'Sheet_name') "
   ]
  },
  {
   "cell_type": "markdown",
   "id": "8ef722b6",
   "metadata": {},
   "source": [
    "df=pd.DataFrame(dictionary_name) "
   ]
  },
  {
   "cell_type": "markdown",
   "id": "4ccce61c",
   "metadata": {},
   "source": [
    "df=pd.DataFrame(tuple_name, columns=['column 1','column 2',....]) "
   ]
  },
  {
   "cell_type": "markdown",
   "id": "148e8e05",
   "metadata": {},
   "source": [
    "df=pd.DataFrame(list_name)"
   ]
  },
  {
   "cell_type": "markdown",
   "id": "f78ca9ba",
   "metadata": {},
   "source": [
    "# Creating Dictionary"
   ]
  },
  {
   "cell_type": "code",
   "execution_count": 6,
   "id": "b455fd3f",
   "metadata": {},
   "outputs": [
    {
     "data": {
      "text/html": [
       "<div>\n",
       "<style scoped>\n",
       "    .dataframe tbody tr th:only-of-type {\n",
       "        vertical-align: middle;\n",
       "    }\n",
       "\n",
       "    .dataframe tbody tr th {\n",
       "        vertical-align: top;\n",
       "    }\n",
       "\n",
       "    .dataframe thead th {\n",
       "        text-align: right;\n",
       "    }\n",
       "</style>\n",
       "<table border=\"1\" class=\"dataframe\">\n",
       "  <thead>\n",
       "    <tr style=\"text-align: right;\">\n",
       "      <th></th>\n",
       "      <th>Date</th>\n",
       "      <th>Course_Code</th>\n",
       "      <th>Course_Name</th>\n",
       "    </tr>\n",
       "  </thead>\n",
       "  <tbody>\n",
       "    <tr>\n",
       "      <th>0</th>\n",
       "      <td>07/08/2022</td>\n",
       "      <td>IPE 435</td>\n",
       "      <td>Metal Cutting Process</td>\n",
       "    </tr>\n",
       "    <tr>\n",
       "      <th>1</th>\n",
       "      <td>10/08/2022</td>\n",
       "      <td>IPE 419</td>\n",
       "      <td>Modelling &amp; Simulation</td>\n",
       "    </tr>\n",
       "    <tr>\n",
       "      <th>2</th>\n",
       "      <td>14/08/2022</td>\n",
       "      <td>IPE 415</td>\n",
       "      <td>Project Management</td>\n",
       "    </tr>\n",
       "    <tr>\n",
       "      <th>3</th>\n",
       "      <td>21/08/2022</td>\n",
       "      <td>IPE 417</td>\n",
       "      <td>Industrial Automation</td>\n",
       "    </tr>\n",
       "    <tr>\n",
       "      <th>4</th>\n",
       "      <td>24/08/2022</td>\n",
       "      <td>IPE 405</td>\n",
       "      <td>Supply Chain Management</td>\n",
       "    </tr>\n",
       "  </tbody>\n",
       "</table>\n",
       "</div>"
      ],
      "text/plain": [
       "         Date Course_Code              Course_Name\n",
       "0  07/08/2022     IPE 435    Metal Cutting Process\n",
       "1  10/08/2022     IPE 419   Modelling & Simulation\n",
       "2  14/08/2022     IPE 415       Project Management\n",
       "3  21/08/2022     IPE 417    Industrial Automation\n",
       "4  24/08/2022     IPE 405  Supply Chain Management"
      ]
     },
     "execution_count": 6,
     "metadata": {},
     "output_type": "execute_result"
    }
   ],
   "source": [
    "dictionary_name = {\n",
    "    'Date':['07/08/2022', '10/08/2022', '14/08/2022', '21/08/2022', '24/08/2022'],\n",
    "    'Course_Code':['IPE 435','IPE 419','IPE 415','IPE 417','IPE 405'],\n",
    "    'Course_Name':['Metal Cutting Process','Modelling & Simulation','Project Management','Industrial Automation','Supply Chain Management']\n",
    "}\n",
    "df=pd.DataFrame(dictionary_name) \n",
    "df"
   ]
  },
  {
   "cell_type": "markdown",
   "id": "eddae8ca",
   "metadata": {},
   "source": [
    "# Creating Tuple"
   ]
  },
  {
   "cell_type": "code",
   "execution_count": 7,
   "id": "5519674d",
   "metadata": {},
   "outputs": [
    {
     "data": {
      "text/html": [
       "<div>\n",
       "<style scoped>\n",
       "    .dataframe tbody tr th:only-of-type {\n",
       "        vertical-align: middle;\n",
       "    }\n",
       "\n",
       "    .dataframe tbody tr th {\n",
       "        vertical-align: top;\n",
       "    }\n",
       "\n",
       "    .dataframe thead th {\n",
       "        text-align: right;\n",
       "    }\n",
       "</style>\n",
       "<table border=\"1\" class=\"dataframe\">\n",
       "  <thead>\n",
       "    <tr style=\"text-align: right;\">\n",
       "      <th></th>\n",
       "      <th>Date</th>\n",
       "      <th>Course_code</th>\n",
       "      <th>Course_name</th>\n",
       "    </tr>\n",
       "  </thead>\n",
       "  <tbody>\n",
       "    <tr>\n",
       "      <th>0</th>\n",
       "      <td>14/08/2022</td>\n",
       "      <td>IPE 415</td>\n",
       "      <td>Project Management</td>\n",
       "    </tr>\n",
       "    <tr>\n",
       "      <th>1</th>\n",
       "      <td>10/08/2022</td>\n",
       "      <td>IPE 419</td>\n",
       "      <td>Modelling &amp; Simulation</td>\n",
       "    </tr>\n",
       "    <tr>\n",
       "      <th>2</th>\n",
       "      <td>24/08/2022</td>\n",
       "      <td>IPE 405</td>\n",
       "      <td>Supply Chain Management</td>\n",
       "    </tr>\n",
       "    <tr>\n",
       "      <th>3</th>\n",
       "      <td>07/08/2022</td>\n",
       "      <td>IPE 435</td>\n",
       "      <td>Metal Cutting Process</td>\n",
       "    </tr>\n",
       "    <tr>\n",
       "      <th>4</th>\n",
       "      <td>21/08/2022</td>\n",
       "      <td>IPE 417</td>\n",
       "      <td>Industrial Automation</td>\n",
       "    </tr>\n",
       "  </tbody>\n",
       "</table>\n",
       "</div>"
      ],
      "text/plain": [
       "         Date Course_code              Course_name\n",
       "0  14/08/2022     IPE 415       Project Management\n",
       "1  10/08/2022     IPE 419   Modelling & Simulation\n",
       "2  24/08/2022     IPE 405  Supply Chain Management\n",
       "3  07/08/2022     IPE 435    Metal Cutting Process\n",
       "4  21/08/2022     IPE 417    Industrial Automation"
      ]
     },
     "execution_count": 7,
     "metadata": {},
     "output_type": "execute_result"
    }
   ],
   "source": [
    "tuple_name = {\n",
    "    ('07/08/2022','IPE 435','Metal Cutting Process'),('10/08/2022','IPE 419','Modelling & Simulation'),('14/08/2022','IPE 415','Project Management'),('21/08/2022','IPE 417','Industrial Automation'),('24/08/2022','IPE 405','Supply Chain Management')\n",
    "}\n",
    "df=pd.DataFrame(tuple_name, columns=['Date','Course_code','Course_name'])\n",
    "df"
   ]
  },
  {
   "cell_type": "markdown",
   "id": "22f914e2",
   "metadata": {},
   "source": [
    "# Creating List"
   ]
  },
  {
   "cell_type": "code",
   "execution_count": 9,
   "id": "6f387c68",
   "metadata": {},
   "outputs": [
    {
     "data": {
      "text/html": [
       "<div>\n",
       "<style scoped>\n",
       "    .dataframe tbody tr th:only-of-type {\n",
       "        vertical-align: middle;\n",
       "    }\n",
       "\n",
       "    .dataframe tbody tr th {\n",
       "        vertical-align: top;\n",
       "    }\n",
       "\n",
       "    .dataframe thead th {\n",
       "        text-align: right;\n",
       "    }\n",
       "</style>\n",
       "<table border=\"1\" class=\"dataframe\">\n",
       "  <thead>\n",
       "    <tr style=\"text-align: right;\">\n",
       "      <th></th>\n",
       "      <th>Date</th>\n",
       "      <th>Course_code</th>\n",
       "      <th>Course_name</th>\n",
       "    </tr>\n",
       "  </thead>\n",
       "  <tbody>\n",
       "    <tr>\n",
       "      <th>0</th>\n",
       "      <td>07/08/2022</td>\n",
       "      <td>IPE 435</td>\n",
       "      <td>Metal Cutting Process</td>\n",
       "    </tr>\n",
       "    <tr>\n",
       "      <th>1</th>\n",
       "      <td>10/08/2022</td>\n",
       "      <td>IPE 419</td>\n",
       "      <td>Modelling &amp; Simulation</td>\n",
       "    </tr>\n",
       "    <tr>\n",
       "      <th>2</th>\n",
       "      <td>14/08/2022</td>\n",
       "      <td>IPE 415</td>\n",
       "      <td>Project Management</td>\n",
       "    </tr>\n",
       "    <tr>\n",
       "      <th>3</th>\n",
       "      <td>21/08/2022</td>\n",
       "      <td>IPE 417</td>\n",
       "      <td>Industrial Automation</td>\n",
       "    </tr>\n",
       "    <tr>\n",
       "      <th>4</th>\n",
       "      <td>24/08/2022</td>\n",
       "      <td>IPE 405</td>\n",
       "      <td>Supply Chain Management</td>\n",
       "    </tr>\n",
       "  </tbody>\n",
       "</table>\n",
       "</div>"
      ],
      "text/plain": [
       "         Date Course_code              Course_name\n",
       "0  07/08/2022     IPE 435    Metal Cutting Process\n",
       "1  10/08/2022     IPE 419   Modelling & Simulation\n",
       "2  14/08/2022     IPE 415       Project Management\n",
       "3  21/08/2022     IPE 417    Industrial Automation\n",
       "4  24/08/2022     IPE 405  Supply Chain Management"
      ]
     },
     "execution_count": 9,
     "metadata": {},
     "output_type": "execute_result"
    }
   ],
   "source": [
    "list_name = [\n",
    "    {'Date':'07/08/2022','Course_code':'IPE 435','Course_name':'Metal Cutting Process'},{'Date':'10/08/2022','Course_code':'IPE 419','Course_name':'Modelling & Simulation'},{'Date':'14/08/2022','Course_code':'IPE 415','Course_name':'Project Management'},{'Date':'21/08/2022','Course_code':'IPE 417','Course_name':'Industrial Automation'},{'Date':'24/08/2022','Course_code':'IPE 405','Course_name':'Supply Chain Management'}\n",
    "]\n",
    "df=pd.DataFrame(list_name)\n",
    "df"
   ]
  }
 ],
 "metadata": {
  "kernelspec": {
   "display_name": "Python 3 (ipykernel)",
   "language": "python",
   "name": "python3"
  },
  "language_info": {
   "codemirror_mode": {
    "name": "ipython",
    "version": 3
   },
   "file_extension": ".py",
   "mimetype": "text/x-python",
   "name": "python",
   "nbconvert_exporter": "python",
   "pygments_lexer": "ipython3",
   "version": "3.9.12"
  }
 },
 "nbformat": 4,
 "nbformat_minor": 5
}
